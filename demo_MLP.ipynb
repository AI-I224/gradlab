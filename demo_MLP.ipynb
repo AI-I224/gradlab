{
 "cells": [
  {
   "cell_type": "markdown",
   "id": "8810154b",
   "metadata": {},
   "source": [
    "# Demo for MLP"
   ]
  },
  {
   "cell_type": "markdown",
   "id": "de726c39",
   "metadata": {},
   "source": [
    "### Import GradLab modules"
   ]
  },
  {
   "cell_type": "code",
   "execution_count": 1,
   "id": "cdf0f7da",
   "metadata": {},
   "outputs": [],
   "source": [
    "import numpy as np\n",
    "import matplotlib.pyplot as plt\n",
    "from core.engine import Tensor\n",
    "from core.nn import Sequential, Linear, ReLU\n",
    "from core.optim import SGD"
   ]
  },
  {
   "cell_type": "markdown",
   "id": "1d98a7af",
   "metadata": {},
   "source": [
    "### Load & Prepare MNIST Dataset\n",
    "\n",
    "We load the **MNIST dataset**, which contains handwritten digit images. The pixel values are normalised to the range [0,1] and flattened into 784-dimensional column vectors so they can be fed into a fully connected network.  \n",
    "\n",
    "The labels are **one-hot encoded** into vectors of length 10 (for digits 0–9), making them compatible with the cross-entropy loss function used during training."
   ]
  },
  {
   "cell_type": "code",
   "execution_count": null,
   "id": "1b9f3dbf",
   "metadata": {},
   "outputs": [],
   "source": [
    "from tensorflow.keras.datasets import mnist\n",
    "\n",
    "(x_train, y_train), (x_test, y_test) = mnist.load_data()\n",
    "\n",
    "# Normalize to [0,1] and flatten to vectors\n",
    "x_train = x_train.astype(np.float32) / 255.0\n",
    "x_test = x_test.astype(np.float32) / 255.0\n",
    "x_train = x_train.reshape(-1, 28*28).T\n",
    "x_test = x_test.reshape(-1, 28*28).T\n",
    "\n",
    "# One-hot encode labels\n",
    "num_classes = 10\n",
    "y_train_oh = np.eye(num_classes)[y_train].T.astype(np.float32)\n",
    "y_test_oh = np.eye(num_classes)[y_test].T.astype(np.float32)"
   ]
  },
  {
   "cell_type": "markdown",
   "id": "bf2cb98d",
   "metadata": {},
   "source": [
    "### Model and Optimiser Definition\n",
    "\n",
    "The model is built using a **sequential architecture**, where each layer feeds its output directly into the next. It starts with a linear layer that flattens the 28×28 pixel input images into a 784-dimensional vector and projects it into a 128-dimensional hidden layer. A ReLU activation introduces non-linearity, followed by another linear layer mapping to 64 hidden units with another ReLU. Finally, the last linear layer maps these features to the number of output classes (10 prediction labels), producing the logits used for classification.  \n",
    "\n",
    "The optimiser used is **stochastic gradient descent (SGD)** with a learning rate of 0.01. This optimiser updates the model parameters by moving them in the opposite direction of the gradients computed during backpropagation. By combining this model structure with SGD, the network can iteratively learn representations that minimise the chosen loss function.  "
   ]
  },
  {
   "cell_type": "code",
   "execution_count": 3,
   "id": "76fb4f2f",
   "metadata": {},
   "outputs": [],
   "source": [
    "model = Sequential(\n",
    "    Linear(28*28, 128),\n",
    "    ReLU(),\n",
    "    Linear(128, 64),\n",
    "    ReLU(),\n",
    "    Linear(64, num_classes)\n",
    ")\n",
    "\n",
    "optimizer = SGD(model.parameters(), lr=0.01)"
   ]
  },
  {
   "cell_type": "markdown",
   "id": "c07db8b8",
   "metadata": {},
   "source": [
    "### Loss Definition\n",
    "\n",
    "The **softmax function** converts the raw model outputs (logits) into probabilities that sum to one across each class. It works by exponentiating the logits (after subtracting the maximum value for numerical stability) and then normalising by the total sum. This makes the outputs interpretable as probabilities for classification tasks. In backpropagation, the Jacobian of softmax is complex, so for simplicity this implementation just propagates gradients directly, which is enough when paired with cross-entropy loss.  \n",
    "\n",
    "The **cross-entropy loss** measures how well the predicted probability distribution matches the true labels (provided in one-hot form). It computes the negative log likelihood of the correct classes and averages this across the batch. The backward pass provides gradients of the loss with respect to the predicted probabilities, which simplifies to `(pred - target) / batch_size`. This pairing of softmax and cross-entropy is widely used in training classification models."
   ]
  },
  {
   "cell_type": "code",
   "execution_count": 4,
   "id": "2a4178b2",
   "metadata": {},
   "outputs": [],
   "source": [
    "def softmax(x: Tensor) -> Tensor:\n",
    "    \"\"\"\n",
    "    Returns the softmax of a Tensor\n",
    "\n",
    "    Args:\n",
    "        x: a tensor that contains the unnormalised logits (raw model ouput)\n",
    "    \"\"\"\n",
    "    exps = np.exp(x.data - np.max(x.data, axis=0, keepdims=True))\n",
    "    probs = exps / np.sum(exps, axis=0, keepdims=True)\n",
    "    out = Tensor(probs, requires_grad=x.requires_grad)\n",
    "\n",
    "    def _backward():\n",
    "        \"\"\"\n",
    "        Returns the local gradient contribution \n",
    "        \"\"\"\n",
    "        if x.requires_grad:\n",
    "            # Jacobian of softmax is messy; for training we usually combine with CE\n",
    "            # Here we just propagate grads as-is (educational, not optimized)\n",
    "            x.grad += out.grad\n",
    "    out._backward = _backward\n",
    "    out._prev = {x}\n",
    "    return out\n",
    "\n",
    "def cross_entropy_loss(pred: Tensor, target: np.ndarray) -> Tensor:\n",
    "    \"\"\"\n",
    "    Computes the Cross Entropy loss\n",
    "    \n",
    "    Args:\n",
    "        pred: a tensor that contains the predicted probability distribution (predicted labels)\n",
    "        target: one-hot np.ndarray that holds the true probaility distribution (actual labels)\n",
    "    \"\"\"\n",
    "    m = target.shape[1]\n",
    "\n",
    "    log_likelihood = -np.log(pred.data + 1e-9) * target\n",
    "    loss_val = np.sum(log_likelihood) / m\n",
    "    loss = Tensor(loss_val, requires_grad=True)\n",
    "\n",
    "    def _backward():\n",
    "        \"\"\"\n",
    "        Returns the local gradient contribution \n",
    "        \"\"\"\n",
    "        if pred.requires_grad:\n",
    "            pred.grad += (pred.data - target) / m\n",
    "    loss._backward = _backward\n",
    "    loss._prev = {pred}\n",
    "    return loss"
   ]
  },
  {
   "cell_type": "markdown",
   "id": "26c58214",
   "metadata": {},
   "source": [
    "### Training Loop\n",
    "\n",
    "The training loop implements **mini-batch stochastic gradient descent (SGD)**. At the start of each epoch, the dataset is randomly shuffled to ensure batches are sampled in a different order every time, which improves generalisation.\n",
    "\n",
    "The loop then slices the shuffled data into mini-batches. For each batch, the model performs a forward pass to compute the unnormalised final scores (logits), applies the softmax function to obtain probabilities, and calculates the cross-entropy loss against the true one-hot encoded labels.  \n",
    "\n",
    "During the backward pass, backpropagation computes the new gradients, and the optimiser updates the model’s weights. After all batches are processed, the model is evaluated on the test set, where the predictions are generated."
   ]
  },
  {
   "cell_type": "code",
   "execution_count": null,
   "id": "95752d3b",
   "metadata": {},
   "outputs": [
    {
     "name": "stdout",
     "output_type": "stream",
     "text": [
      "Epoch 1/100, Loss: 2.3016, Test Acc: 0.1135\n",
      "Epoch 2/100, Loss: 2.3003, Test Acc: 0.1135\n",
      "Epoch 3/100, Loss: 2.2945, Test Acc: 0.2094\n",
      "Epoch 4/100, Loss: 2.1527, Test Acc: 0.3073\n",
      "Epoch 5/100, Loss: 1.6498, Test Acc: 0.4696\n",
      "Epoch 6/100, Loss: 1.0620, Test Acc: 0.7150\n",
      "Epoch 7/100, Loss: 0.7364, Test Acc: 0.8016\n",
      "Epoch 8/100, Loss: 0.5829, Test Acc: 0.8432\n",
      "Epoch 9/100, Loss: 0.4950, Test Acc: 0.8607\n",
      "Epoch 10/100, Loss: 0.4416, Test Acc: 0.8718\n",
      "Epoch 11/100, Loss: 0.4039, Test Acc: 0.8834\n",
      "Epoch 12/100, Loss: 0.3773, Test Acc: 0.8914\n",
      "Epoch 13/100, Loss: 0.3563, Test Acc: 0.8953\n",
      "Epoch 14/100, Loss: 0.3401, Test Acc: 0.9020\n",
      "Epoch 15/100, Loss: 0.3269, Test Acc: 0.9056\n",
      "Epoch 16/100, Loss: 0.3162, Test Acc: 0.9083\n",
      "Epoch 17/100, Loss: 0.3065, Test Acc: 0.9100\n",
      "Epoch 18/100, Loss: 0.2982, Test Acc: 0.9134\n",
      "Epoch 19/100, Loss: 0.2908, Test Acc: 0.9150\n",
      "Epoch 20/100, Loss: 0.2837, Test Acc: 0.9157\n",
      "Epoch 21/100, Loss: 0.2781, Test Acc: 0.9203\n",
      "Epoch 22/100, Loss: 0.2721, Test Acc: 0.9222\n",
      "Epoch 23/100, Loss: 0.2668, Test Acc: 0.9219\n",
      "Epoch 24/100, Loss: 0.2624, Test Acc: 0.9241\n",
      "Epoch 25/100, Loss: 0.2580, Test Acc: 0.9251\n",
      "Epoch 26/100, Loss: 0.2542, Test Acc: 0.9262\n",
      "Epoch 27/100, Loss: 0.2506, Test Acc: 0.9268\n",
      "Epoch 28/100, Loss: 0.2471, Test Acc: 0.9274\n",
      "Epoch 29/100, Loss: 0.2442, Test Acc: 0.9301\n",
      "Epoch 30/100, Loss: 0.2416, Test Acc: 0.9307\n",
      "Epoch 31/100, Loss: 0.2389, Test Acc: 0.9299\n",
      "Epoch 32/100, Loss: 0.2368, Test Acc: 0.9302\n",
      "Epoch 33/100, Loss: 0.2346, Test Acc: 0.9311\n",
      "Epoch 34/100, Loss: 0.2322, Test Acc: 0.9327\n",
      "Epoch 35/100, Loss: 0.2306, Test Acc: 0.9322\n",
      "Epoch 36/100, Loss: 0.2285, Test Acc: 0.9308\n",
      "Epoch 37/100, Loss: 0.2264, Test Acc: 0.9319\n",
      "Epoch 38/100, Loss: 0.2252, Test Acc: 0.9341\n",
      "Epoch 39/100, Loss: 0.2236, Test Acc: 0.9327\n",
      "Epoch 40/100, Loss: 0.2218, Test Acc: 0.9346\n",
      "Epoch 41/100, Loss: 0.2205, Test Acc: 0.9338\n",
      "Epoch 42/100, Loss: 0.2191, Test Acc: 0.9350\n",
      "Epoch 43/100, Loss: 0.2180, Test Acc: 0.9342\n",
      "Epoch 44/100, Loss: 0.2165, Test Acc: 0.9340\n",
      "Epoch 45/100, Loss: 0.2148, Test Acc: 0.9348\n",
      "Epoch 46/100, Loss: 0.2139, Test Acc: 0.9353\n",
      "Epoch 47/100, Loss: 0.2126, Test Acc: 0.9341\n",
      "Epoch 48/100, Loss: 0.2119, Test Acc: 0.9359\n",
      "Epoch 49/100, Loss: 0.2112, Test Acc: 0.9367\n",
      "Epoch 50/100, Loss: 0.2099, Test Acc: 0.9368\n",
      "Epoch 51/100, Loss: 0.2083, Test Acc: 0.9362\n",
      "Epoch 52/100, Loss: 0.2078, Test Acc: 0.9351\n",
      "Epoch 53/100, Loss: 0.2066, Test Acc: 0.9368\n",
      "Epoch 54/100, Loss: 0.2060, Test Acc: 0.9365\n",
      "Epoch 55/100, Loss: 0.2052, Test Acc: 0.9355\n",
      "Epoch 56/100, Loss: 0.2045, Test Acc: 0.9340\n",
      "Epoch 57/100, Loss: 0.2037, Test Acc: 0.9357\n",
      "Epoch 58/100, Loss: 0.2026, Test Acc: 0.9365\n",
      "Epoch 59/100, Loss: 0.2019, Test Acc: 0.9376\n",
      "Epoch 60/100, Loss: 0.2010, Test Acc: 0.9375\n",
      "Epoch 61/100, Loss: 0.2002, Test Acc: 0.9387\n",
      "Epoch 62/100, Loss: 0.1998, Test Acc: 0.9353\n",
      "Epoch 63/100, Loss: 0.1990, Test Acc: 0.9373\n",
      "Epoch 64/100, Loss: 0.1981, Test Acc: 0.9376\n",
      "Epoch 65/100, Loss: 0.1978, Test Acc: 0.9385\n",
      "Epoch 66/100, Loss: 0.1973, Test Acc: 0.9383\n",
      "Epoch 67/100, Loss: 0.1967, Test Acc: 0.9358\n",
      "Epoch 68/100, Loss: 0.1956, Test Acc: 0.9379\n",
      "Epoch 69/100, Loss: 0.1951, Test Acc: 0.9375\n",
      "Epoch 70/100, Loss: 0.1951, Test Acc: 0.9358\n",
      "Epoch 71/100, Loss: 0.1941, Test Acc: 0.9373\n",
      "Epoch 72/100, Loss: 0.1936, Test Acc: 0.9375\n",
      "Epoch 73/100, Loss: 0.1931, Test Acc: 0.9382\n",
      "Epoch 74/100, Loss: 0.1927, Test Acc: 0.9370\n",
      "Epoch 75/100, Loss: 0.1923, Test Acc: 0.9377\n",
      "Epoch 76/100, Loss: 0.1915, Test Acc: 0.9375\n",
      "Epoch 77/100, Loss: 0.1914, Test Acc: 0.9371\n",
      "Epoch 78/100, Loss: 0.1905, Test Acc: 0.9386\n",
      "Epoch 79/100, Loss: 0.1903, Test Acc: 0.9387\n",
      "Epoch 80/100, Loss: 0.1895, Test Acc: 0.9378\n",
      "Epoch 81/100, Loss: 0.1897, Test Acc: 0.9387\n",
      "Epoch 82/100, Loss: 0.1887, Test Acc: 0.9377\n",
      "Epoch 83/100, Loss: 0.1887, Test Acc: 0.9384\n",
      "Epoch 84/100, Loss: 0.1881, Test Acc: 0.9383\n",
      "Epoch 85/100, Loss: 0.1878, Test Acc: 0.9381\n",
      "Epoch 86/100, Loss: 0.1874, Test Acc: 0.9387\n",
      "Epoch 87/100, Loss: 0.1866, Test Acc: 0.9388\n",
      "Epoch 88/100, Loss: 0.1867, Test Acc: 0.9386\n",
      "Epoch 89/100, Loss: 0.1863, Test Acc: 0.9360\n",
      "Epoch 90/100, Loss: 0.1859, Test Acc: 0.9393\n",
      "Epoch 91/100, Loss: 0.1860, Test Acc: 0.9387\n",
      "Epoch 92/100, Loss: 0.1853, Test Acc: 0.9381\n",
      "Epoch 93/100, Loss: 0.1850, Test Acc: 0.9372\n",
      "Epoch 94/100, Loss: 0.1845, Test Acc: 0.9392\n",
      "Epoch 95/100, Loss: 0.1846, Test Acc: 0.9391\n",
      "Epoch 96/100, Loss: 0.1839, Test Acc: 0.9393\n",
      "Epoch 97/100, Loss: 0.1837, Test Acc: 0.9396\n",
      "Epoch 98/100, Loss: 0.1836, Test Acc: 0.9381\n",
      "Epoch 99/100, Loss: 0.1832, Test Acc: 0.9400\n",
      "Epoch 100/100, Loss: 0.1830, Test Acc: 0.9380\n"
     ]
    }
   ],
   "source": [
    "epochs = 100\n",
    "batch_size = 64\n",
    "\n",
    "# Empty lists for storing datapoints of each variable for plotting\n",
    "train_losses = []\n",
    "test_accuracies = []\n",
    "\n",
    "for epoch in range(epochs):\n",
    "    perm = np.random.permutation(x_train.shape[1])\n",
    "    x_train_shuffled = x_train[:, perm]\n",
    "    y_train_shuffled = y_train_oh[:, perm]\n",
    "\n",
    "    epoch_losses = []\n",
    "    for i in range(0, x_train.shape[1], batch_size):\n",
    "        xb = Tensor(x_train_shuffled[:, i:i+batch_size], requires_grad=False)\n",
    "        yb = y_train_shuffled[:, i:i+batch_size]\n",
    "\n",
    "        logits = model(xb)\n",
    "        probs = softmax(logits)\n",
    "        loss = cross_entropy_loss(probs, yb)\n",
    "\n",
    "        model.zero_grad()\n",
    "        loss.backward()\n",
    "        optimizer.step()\n",
    "\n",
    "        epoch_losses.append(loss.data)\n",
    "    avg_loss = np.mean(epoch_losses)\n",
    "\n",
    "    # Evaluate accuracy\n",
    "    test_logits = model(Tensor(x_test, requires_grad=False))\n",
    "    test_probs = softmax(test_logits)\n",
    "    test_preds = np.argmax(test_probs.data, axis=0)\n",
    "    acc = np.mean(test_preds == y_test)\n",
    "\n",
    "    # Append datapoints (average loss & test accuracy) for each epoch\n",
    "    train_losses.append(avg_loss)\n",
    "    test_accuracies.append(acc)\n",
    "\n",
    "    print(f\"Epoch {epoch+1}/{epochs}, Loss: {avg_loss:.4f}, Test Acc: {acc:.4f}\")"
   ]
  },
  {
   "cell_type": "code",
   "execution_count": 6,
   "id": "03fa4be0",
   "metadata": {},
   "outputs": [
    {
     "data": {
      "image/png": "[encoded data removed]",
      "text/plain": [
       "<Figure size 800x500 with 2 Axes>"
      ]
     },
     "metadata": {},
     "output_type": "display_data"
    }
   ],
   "source": [
    "# Plot Loss and Accuracy\n",
    "fig, ax1 = plt.subplots(figsize=(8,5))\n",
    "\n",
    "color = 'tab:blue'\n",
    "ax1.set_xlabel('Epoch')\n",
    "ax1.set_ylabel('Loss', color=color)\n",
    "ax1.plot(range(1, epochs+1), train_losses, color=color, label='Loss')\n",
    "ax1.tick_params(axis='y', labelcolor=color)\n",
    "\n",
    "ax2 = ax1.twinx()\n",
    "color = 'tab:red'\n",
    "ax2.set_ylabel('Accuracy', color=color)\n",
    "ax2.plot(range(1, epochs+1), test_accuracies, color=color, label='Accuracy')\n",
    "ax2.tick_params(axis='y', labelcolor=color)\n",
    "\n",
    "fig.tight_layout()\n",
    "plt.title('Training Loss and Test Accuracy')\n",
    "plt.show()"
   ]
  },
  {
   "cell_type": "markdown",
   "id": "01c96ebb",
   "metadata": {},
   "source": [
    "### Testing MLP model"
   ]
  },
  {
   "cell_type": "code",
   "execution_count": 49,
   "id": "f4e19417",
   "metadata": {},
   "outputs": [
    {
     "name": "stdout",
     "output_type": "stream",
     "text": [
      "Random Sample Prediction -> True: 3, Pred: 3\n",
      "Model Certainty: 0.9973209500312805\n"
     ]
    },
    {
     "data": {
      "image/png": "[encoded data removed]",
      "text/plain": [
       "<Figure size 640x480 with 1 Axes>"
      ]
     },
     "metadata": {},
     "output_type": "display_data"
    }
   ],
   "source": [
    "import matplotlib.pyplot as plt\n",
    "\n",
    "idx = np.random.randint(0, x_test.shape[1])\n",
    "\n",
    "x_sample = Tensor(x_test[:, idx:idx+1], requires_grad=False)\n",
    "logits = model(x_sample)\n",
    "probs = softmax(logits)\n",
    "\n",
    "pred_label = int(np.argmax(probs.data, axis=0).item())\n",
    "true_label = int(y_test[idx])\n",
    "\n",
    "print(f\"Random Sample Prediction -> True: {true_label}, Pred: {pred_label}\\nModel Certainty: {np.max(probs.data)}\")\n",
    "\n",
    "plt.imshow(x_test[:, idx].reshape(28, 28), cmap=\"plasma\")\n",
    "plt.title(f\"Actual Label: {true_label}, Predicted Label: {pred_label}\")\n",
    "plt.axis(\"off\")\n",
    "plt.show()"
   ]
  }
 ],
 "metadata": {
  "kernelspec": {
   "display_name": ".venv",
   "language": "python",
   "name": "python3"
  },
  "language_info": {
   "codemirror_mode": {
    "name": "ipython",
    "version": 3
   },
   "file_extension": ".py",
   "mimetype": "text/x-python",
   "name": "python",
   "nbconvert_exporter": "python",
   "pygments_lexer": "ipython3",
   "version": "3.11.5"
  }
 },
 "nbformat": 4,
 "nbformat_minor": 5
}
